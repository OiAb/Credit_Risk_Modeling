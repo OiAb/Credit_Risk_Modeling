{
 "cells": [
  {
   "cell_type": "code",
   "execution_count": 77,
   "metadata": {},
   "outputs": [],
   "source": [
    "import numpy as np\n",
    "import pandas as pd\n",
    "from sklearn.model_selection import train_test_split\n",
    "import matplotlib.pyplot as plt\n",
    "import seaborn as sns\n",
    "sns.set()"
   ]
  },
  {
   "cell_type": "markdown",
   "metadata": {},
   "source": [
    "Data Preparation"
   ]
  },
  {
   "cell_type": "code",
   "execution_count": 103,
   "metadata": {},
   "outputs": [
    {
     "name": "stderr",
     "output_type": "stream",
     "text": [
      "C:\\Users\\JV592ML\\AppData\\Local\\Temp\\ipykernel_28280\\1031781799.py:1: DtypeWarning: Columns (20) have mixed types. Specify dtype option on import or set low_memory=False.\n",
      "  data_backups = pd.read_csv('loan_data_2007_2014.csv')\n",
      "c:\\Users\\JV592ML\\AppData\\Local\\Programs\\Python\\Python312\\Lib\\site-packages\\openpyxl\\worksheet\\_reader.py:329: UserWarning: Unknown extension is not supported and will be removed\n",
      "  warn(msg)\n"
     ]
    }
   ],
   "source": [
    "data_backups = pd.read_csv('loan_data_2007_2014.csv')\n",
    "data_backups = data_backups.drop(columns=data_backups.columns[0:1])\n",
    "data_dict = pd.read_excel('LCDataDictionary.xlsx')"
   ]
  },
  {
   "cell_type": "code",
   "execution_count": 156,
   "metadata": {},
   "outputs": [
    {
     "name": "stdout",
     "output_type": "stream",
     "text": [
      "<class 'pandas.core.frame.DataFrame'>\n",
      "RangeIndex: 466285 entries, 0 to 466284\n",
      "Data columns (total 74 columns):\n",
      " #   Column                       Non-Null Count   Dtype  \n",
      "---  ------                       --------------   -----  \n",
      " 0   id                           466285 non-null  int64  \n",
      " 1   member_id                    466285 non-null  int64  \n",
      " 2   loan_amnt                    466285 non-null  int64  \n",
      " 3   funded_amnt                  466285 non-null  int64  \n",
      " 4   funded_amnt_inv              466285 non-null  float64\n",
      " 5   term                         466285 non-null  object \n",
      " 6   int_rate                     466285 non-null  float64\n",
      " 7   installment                  466285 non-null  float64\n",
      " 8   grade                        466285 non-null  object \n",
      " 9   sub_grade                    466285 non-null  object \n",
      " 10  emp_title                    438697 non-null  object \n",
      " 11  emp_length                   445277 non-null  object \n",
      " 12  home_ownership               466285 non-null  object \n",
      " 13  annual_inc                   466281 non-null  float64\n",
      " 14  verification_status          466285 non-null  object \n",
      " 15  issue_d                      466285 non-null  object \n",
      " 16  loan_status                  466285 non-null  object \n",
      " 17  pymnt_plan                   466285 non-null  object \n",
      " 18  url                          466285 non-null  object \n",
      " 19  desc                         125981 non-null  object \n",
      " 20  purpose                      466285 non-null  object \n",
      " 21  title                        466264 non-null  object \n",
      " 22  zip_code                     466285 non-null  object \n",
      " 23  addr_state                   466285 non-null  object \n",
      " 24  dti                          466285 non-null  float64\n",
      " 25  delinq_2yrs                  466256 non-null  float64\n",
      " 26  earliest_cr_line             466256 non-null  object \n",
      " 27  inq_last_6mths               466256 non-null  float64\n",
      " 28  mths_since_last_delinq       215934 non-null  float64\n",
      " 29  mths_since_last_record       62638 non-null   float64\n",
      " 30  open_acc                     466256 non-null  float64\n",
      " 31  pub_rec                      466256 non-null  float64\n",
      " 32  revol_bal                    466285 non-null  int64  \n",
      " 33  revol_util                   465945 non-null  float64\n",
      " 34  total_acc                    466256 non-null  float64\n",
      " 35  initial_list_status          466285 non-null  object \n",
      " 36  out_prncp                    466285 non-null  float64\n",
      " 37  out_prncp_inv                466285 non-null  float64\n",
      " 38  total_pymnt                  466285 non-null  float64\n",
      " 39  total_pymnt_inv              466285 non-null  float64\n",
      " 40  total_rec_prncp              466285 non-null  float64\n",
      " 41  total_rec_int                466285 non-null  float64\n",
      " 42  total_rec_late_fee           466285 non-null  float64\n",
      " 43  recoveries                   466285 non-null  float64\n",
      " 44  collection_recovery_fee      466285 non-null  float64\n",
      " 45  last_pymnt_d                 465909 non-null  object \n",
      " 46  last_pymnt_amnt              466285 non-null  float64\n",
      " 47  next_pymnt_d                 239071 non-null  object \n",
      " 48  last_credit_pull_d           466243 non-null  object \n",
      " 49  collections_12_mths_ex_med   466140 non-null  float64\n",
      " 50  mths_since_last_major_derog  98974 non-null   float64\n",
      " 51  policy_code                  466285 non-null  int64  \n",
      " 52  application_type             466285 non-null  object \n",
      " 53  annual_inc_joint             0 non-null       float64\n",
      " 54  dti_joint                    0 non-null       float64\n",
      " 55  verification_status_joint    0 non-null       float64\n",
      " 56  acc_now_delinq               466256 non-null  float64\n",
      " 57  tot_coll_amt                 396009 non-null  float64\n",
      " 58  tot_cur_bal                  396009 non-null  float64\n",
      " 59  open_acc_6m                  0 non-null       float64\n",
      " 60  open_il_6m                   0 non-null       float64\n",
      " 61  open_il_12m                  0 non-null       float64\n",
      " 62  open_il_24m                  0 non-null       float64\n",
      " 63  mths_since_rcnt_il           0 non-null       float64\n",
      " 64  total_bal_il                 0 non-null       float64\n",
      " 65  il_util                      0 non-null       float64\n",
      " 66  open_rv_12m                  0 non-null       float64\n",
      " 67  open_rv_24m                  0 non-null       float64\n",
      " 68  max_bal_bc                   0 non-null       float64\n",
      " 69  all_util                     0 non-null       float64\n",
      " 70  total_rev_hi_lim             396009 non-null  float64\n",
      " 71  inq_fi                       0 non-null       float64\n",
      " 72  total_cu_tl                  0 non-null       float64\n",
      " 73  inq_last_12m                 0 non-null       float64\n",
      "dtypes: float64(46), int64(6), object(22)\n",
      "memory usage: 263.3+ MB\n"
     ]
    }
   ],
   "source": [
    "data = data_backups.copy()\n",
    "data.info()"
   ]
  },
  {
   "cell_type": "code",
   "execution_count": 107,
   "metadata": {},
   "outputs": [
    {
     "data": {
      "text/html": [
       "<div>\n",
       "<style scoped>\n",
       "    .dataframe tbody tr th:only-of-type {\n",
       "        vertical-align: middle;\n",
       "    }\n",
       "\n",
       "    .dataframe tbody tr th {\n",
       "        vertical-align: top;\n",
       "    }\n",
       "\n",
       "    .dataframe thead th {\n",
       "        text-align: right;\n",
       "    }\n",
       "</style>\n",
       "<table border=\"1\" class=\"dataframe\">\n",
       "  <thead>\n",
       "    <tr style=\"text-align: right;\">\n",
       "      <th></th>\n",
       "      <th>LoanStatNew</th>\n",
       "      <th>Description</th>\n",
       "    </tr>\n",
       "  </thead>\n",
       "  <tbody>\n",
       "    <tr>\n",
       "      <th>0</th>\n",
       "      <td>addr_state</td>\n",
       "      <td>The state provided by the borrower in the loan...</td>\n",
       "    </tr>\n",
       "    <tr>\n",
       "      <th>1</th>\n",
       "      <td>annual_inc</td>\n",
       "      <td>The self-reported annual income provided by th...</td>\n",
       "    </tr>\n",
       "    <tr>\n",
       "      <th>2</th>\n",
       "      <td>annual_inc_joint</td>\n",
       "      <td>The combined self-reported annual income provi...</td>\n",
       "    </tr>\n",
       "    <tr>\n",
       "      <th>3</th>\n",
       "      <td>application_type</td>\n",
       "      <td>Indicates whether the loan is an individual ap...</td>\n",
       "    </tr>\n",
       "    <tr>\n",
       "      <th>4</th>\n",
       "      <td>collection_recovery_fee</td>\n",
       "      <td>post charge off collection fee</td>\n",
       "    </tr>\n",
       "    <tr>\n",
       "      <th>...</th>\n",
       "      <td>...</td>\n",
       "      <td>...</td>\n",
       "    </tr>\n",
       "    <tr>\n",
       "      <th>75</th>\n",
       "      <td>acc_now_delinq</td>\n",
       "      <td>The number of accounts on which the borrower i...</td>\n",
       "    </tr>\n",
       "    <tr>\n",
       "      <th>76</th>\n",
       "      <td>tot_coll_amt</td>\n",
       "      <td>Total collection amounts ever owed</td>\n",
       "    </tr>\n",
       "    <tr>\n",
       "      <th>77</th>\n",
       "      <td>tot_cur_bal</td>\n",
       "      <td>Total current balance of all accounts</td>\n",
       "    </tr>\n",
       "    <tr>\n",
       "      <th>78</th>\n",
       "      <td>NaN</td>\n",
       "      <td>NaN</td>\n",
       "    </tr>\n",
       "    <tr>\n",
       "      <th>79</th>\n",
       "      <td>NaN</td>\n",
       "      <td>* Employer Title replaces Employer Name for al...</td>\n",
       "    </tr>\n",
       "  </tbody>\n",
       "</table>\n",
       "<p>80 rows × 2 columns</p>\n",
       "</div>"
      ],
      "text/plain": [
       "                LoanStatNew                                        Description\n",
       "0                addr_state  The state provided by the borrower in the loan...\n",
       "1                annual_inc  The self-reported annual income provided by th...\n",
       "2          annual_inc_joint  The combined self-reported annual income provi...\n",
       "3          application_type  Indicates whether the loan is an individual ap...\n",
       "4   collection_recovery_fee                     post charge off collection fee\n",
       "..                      ...                                                ...\n",
       "75           acc_now_delinq  The number of accounts on which the borrower i...\n",
       "76             tot_coll_amt                 Total collection amounts ever owed\n",
       "77              tot_cur_bal              Total current balance of all accounts\n",
       "78                      NaN                                                NaN\n",
       "79                      NaN  * Employer Title replaces Employer Name for al...\n",
       "\n",
       "[80 rows x 2 columns]"
      ]
     },
     "execution_count": 107,
     "metadata": {},
     "output_type": "execute_result"
    }
   ],
   "source": [
    "#pd.options.display.max_colwidth = None\n",
    "#pd.options.display.max_rows = None\n",
    "#data_dict[data_dict['LoanStatNew'] == 'verification_status']\n",
    "data_dict"
   ]
  },
  {
   "cell_type": "markdown",
   "metadata": {},
   "source": [
    "Data Preprocessing"
   ]
  },
  {
   "cell_type": "markdown",
   "metadata": {},
   "source": [
    "Continuous Independent Variables"
   ]
  },
  {
   "cell_type": "code",
   "execution_count": 155,
   "metadata": {},
   "outputs": [
    {
     "data": {
      "text/plain": [
       "array(['10+ years', '< 1 year', '1 year', '3 years', '8 years', '9 years',\n",
       "       '4 years', '5 years', '6 years', '2 years', '7 years', nan],\n",
       "      dtype=object)"
      ]
     },
     "execution_count": 155,
     "metadata": {},
     "output_type": "execute_result"
    }
   ],
   "source": [
    "data['emp_length'].unique()"
   ]
  },
  {
   "cell_type": "code",
   "execution_count": 162,
   "metadata": {},
   "outputs": [
    {
     "data": {
      "text/plain": [
       "(array([10.,  0.,  1.,  3.,  8.,  9.,  4.,  5.,  6.,  2.,  7., nan]),\n",
       " array([36, 60], dtype=int64))"
      ]
     },
     "execution_count": 162,
     "metadata": {},
     "output_type": "execute_result"
    }
   ],
   "source": [
    "data['emp_length_int'] = data['emp_length'].str.replace('+ years', '')\n",
    "data['emp_length_int'] = data['emp_length_int'].str.replace('< 1 year', str(0))\n",
    "data['emp_length_int'] = data['emp_length_int'].str.replace('nan', str(0))\n",
    "data['emp_length_int'] = data['emp_length_int'].str.replace(' years', '')\n",
    "data['emp_length_int'] = data['emp_length_int'].str.replace(' year', '')\n",
    "data['emp_length_int'] = pd.to_numeric(data['emp_length_int'])\n",
    "data['term_int']  = pd.to_numeric(data['term'].str.replace(' months', ''))\n",
    "data['emp_length_int'].unique(), data['term_int'].unique()"
   ]
  },
  {
   "cell_type": "code",
   "execution_count": 163,
   "metadata": {},
   "outputs": [
    {
     "data": {
      "text/plain": [
       "(count    466256.000000\n",
       " mean        239.482430\n",
       " std          93.974829\n",
       " min        -612.000000\n",
       " 25%         183.000000\n",
       " 50%         225.000000\n",
       " 75%         285.000000\n",
       " max         587.000000\n",
       " Name: mths_since_earliest_cr_line, dtype: float64,\n",
       " count    466285.000000\n",
       " mean         51.255187\n",
       " std          14.340154\n",
       " min          36.000000\n",
       " 25%          41.000000\n",
       " 50%          47.000000\n",
       " 75%          57.000000\n",
       " max         126.000000\n",
       " Name: mths_since_issue_d, dtype: float64)"
      ]
     },
     "execution_count": 163,
     "metadata": {},
     "output_type": "execute_result"
    }
   ],
   "source": [
    "data['earliest_cr_line_date'] = pd.to_datetime(data['earliest_cr_line'], format='%b-%y')\n",
    "data['mths_since_earliest_cr_line'] = round((pd.to_datetime('2017-12-01') - data['earliest_cr_line_date']).dt.days / 30.44)\n",
    "data['issue_d_date'] = pd.to_datetime(data['issue_d'], format='%b-%y')\n",
    "data['mths_since_issue_d'] = round((pd.to_datetime('2017-12-01') - data['issue_d_date']).dt.days / 30.44)\n",
    "data['mths_since_earliest_cr_line'].describe(), data['mths_since_issue_d'].describe()"
   ]
  },
  {
   "cell_type": "code",
   "execution_count": 7,
   "metadata": {},
   "outputs": [
    {
     "data": {
      "text/html": [
       "<div>\n",
       "<style scoped>\n",
       "    .dataframe tbody tr th:only-of-type {\n",
       "        vertical-align: middle;\n",
       "    }\n",
       "\n",
       "    .dataframe tbody tr th {\n",
       "        vertical-align: top;\n",
       "    }\n",
       "\n",
       "    .dataframe thead th {\n",
       "        text-align: right;\n",
       "    }\n",
       "</style>\n",
       "<table border=\"1\" class=\"dataframe\">\n",
       "  <thead>\n",
       "    <tr style=\"text-align: right;\">\n",
       "      <th></th>\n",
       "      <th>earliest_cr_line</th>\n",
       "      <th>earliest_cr_line_date</th>\n",
       "      <th>mths_since_earliest_cr_line</th>\n",
       "    </tr>\n",
       "  </thead>\n",
       "  <tbody>\n",
       "    <tr>\n",
       "      <th>1580</th>\n",
       "      <td>Sep-62</td>\n",
       "      <td>2062-09-01</td>\n",
       "      <td>-537.0</td>\n",
       "    </tr>\n",
       "    <tr>\n",
       "      <th>1770</th>\n",
       "      <td>Sep-68</td>\n",
       "      <td>2068-09-01</td>\n",
       "      <td>-609.0</td>\n",
       "    </tr>\n",
       "    <tr>\n",
       "      <th>2799</th>\n",
       "      <td>Sep-64</td>\n",
       "      <td>2064-09-01</td>\n",
       "      <td>-561.0</td>\n",
       "    </tr>\n",
       "    <tr>\n",
       "      <th>3282</th>\n",
       "      <td>Sep-67</td>\n",
       "      <td>2067-09-01</td>\n",
       "      <td>-597.0</td>\n",
       "    </tr>\n",
       "    <tr>\n",
       "      <th>3359</th>\n",
       "      <td>Feb-65</td>\n",
       "      <td>2065-02-01</td>\n",
       "      <td>-566.0</td>\n",
       "    </tr>\n",
       "    <tr>\n",
       "      <th>...</th>\n",
       "      <td>...</td>\n",
       "      <td>...</td>\n",
       "      <td>...</td>\n",
       "    </tr>\n",
       "    <tr>\n",
       "      <th>464003</th>\n",
       "      <td>Jan-68</td>\n",
       "      <td>2068-01-01</td>\n",
       "      <td>-601.0</td>\n",
       "    </tr>\n",
       "    <tr>\n",
       "      <th>464260</th>\n",
       "      <td>Jul-66</td>\n",
       "      <td>2066-07-01</td>\n",
       "      <td>-583.0</td>\n",
       "    </tr>\n",
       "    <tr>\n",
       "      <th>465100</th>\n",
       "      <td>Oct-67</td>\n",
       "      <td>2067-10-01</td>\n",
       "      <td>-598.0</td>\n",
       "    </tr>\n",
       "    <tr>\n",
       "      <th>465500</th>\n",
       "      <td>Sep-67</td>\n",
       "      <td>2067-09-01</td>\n",
       "      <td>-597.0</td>\n",
       "    </tr>\n",
       "    <tr>\n",
       "      <th>465655</th>\n",
       "      <td>Jan-56</td>\n",
       "      <td>2056-01-01</td>\n",
       "      <td>-457.0</td>\n",
       "    </tr>\n",
       "  </tbody>\n",
       "</table>\n",
       "<p>1169 rows × 3 columns</p>\n",
       "</div>"
      ],
      "text/plain": [
       "       earliest_cr_line earliest_cr_line_date  mths_since_earliest_cr_line\n",
       "1580             Sep-62            2062-09-01                       -537.0\n",
       "1770             Sep-68            2068-09-01                       -609.0\n",
       "2799             Sep-64            2064-09-01                       -561.0\n",
       "3282             Sep-67            2067-09-01                       -597.0\n",
       "3359             Feb-65            2065-02-01                       -566.0\n",
       "...                 ...                   ...                          ...\n",
       "464003           Jan-68            2068-01-01                       -601.0\n",
       "464260           Jul-66            2066-07-01                       -583.0\n",
       "465100           Oct-67            2067-10-01                       -598.0\n",
       "465500           Sep-67            2067-09-01                       -597.0\n",
       "465655           Jan-56            2056-01-01                       -457.0\n",
       "\n",
       "[1169 rows x 3 columns]"
      ]
     },
     "execution_count": 7,
     "metadata": {},
     "output_type": "execute_result"
    }
   ],
   "source": [
    "data.loc[:, ['earliest_cr_line', 'earliest_cr_line_date', 'mths_since_earliest_cr_line']][data['mths_since_earliest_cr_line'] < 0]"
   ]
  },
  {
   "cell_type": "code",
   "execution_count": 164,
   "metadata": {},
   "outputs": [
    {
     "name": "stderr",
     "output_type": "stream",
     "text": [
      "C:\\Users\\JV592ML\\AppData\\Local\\Temp\\ipykernel_28280\\930907588.py:1: FutureWarning: ChainedAssignmentError: behaviour will change in pandas 3.0!\n",
      "You are setting values through chained assignment. Currently this works in certain cases, but when using Copy-on-Write (which will become the default behaviour in pandas 3.0) this will never work to update the original DataFrame or Series, because the intermediate object on which we are setting values will behave as a copy.\n",
      "A typical example is when you are setting values in a column of a DataFrame, like:\n",
      "\n",
      "df[\"col\"][row_indexer] = value\n",
      "\n",
      "Use `df.loc[row_indexer, \"col\"] = values` instead, to perform the assignment in a single step and ensure this keeps updating the original `df`.\n",
      "\n",
      "See the caveats in the documentation: https://pandas.pydata.org/pandas-docs/stable/user_guide/indexing.html#returning-a-view-versus-a-copy\n",
      "\n",
      "  data['mths_since_earliest_cr_line'][data['mths_since_earliest_cr_line'] < 0] = max(data['mths_since_earliest_cr_line'])\n",
      "C:\\Users\\JV592ML\\AppData\\Local\\Temp\\ipykernel_28280\\930907588.py:1: SettingWithCopyWarning: \n",
      "A value is trying to be set on a copy of a slice from a DataFrame\n",
      "\n",
      "See the caveats in the documentation: https://pandas.pydata.org/pandas-docs/stable/user_guide/indexing.html#returning-a-view-versus-a-copy\n",
      "  data['mths_since_earliest_cr_line'][data['mths_since_earliest_cr_line'] < 0] = max(data['mths_since_earliest_cr_line'])\n"
     ]
    },
    {
     "data": {
      "text/plain": [
       "count    466256.000000\n",
       "mean        242.385374\n",
       "std          86.460310\n",
       "min          73.000000\n",
       "25%         184.000000\n",
       "50%         226.000000\n",
       "75%         285.000000\n",
       "max         587.000000\n",
       "Name: mths_since_earliest_cr_line, dtype: float64"
      ]
     },
     "execution_count": 164,
     "metadata": {},
     "output_type": "execute_result"
    }
   ],
   "source": [
    "data['mths_since_earliest_cr_line'][data['mths_since_earliest_cr_line'] < 0] = max(data['mths_since_earliest_cr_line'])\n",
    "data['mths_since_earliest_cr_line'].describe()"
   ]
  },
  {
   "cell_type": "markdown",
   "metadata": {},
   "source": [
    "Discrete Independent Variables"
   ]
  },
  {
   "cell_type": "code",
   "execution_count": 144,
   "metadata": {},
   "outputs": [
    {
     "data": {
      "text/plain": [
       "array(['B', 'C', 'A', 'E', 'F', 'D', 'G'], dtype=object)"
      ]
     },
     "execution_count": 144,
     "metadata": {},
     "output_type": "execute_result"
    }
   ],
   "source": [
    "data['grade'].unique()"
   ]
  },
  {
   "cell_type": "code",
   "execution_count": 165,
   "metadata": {},
   "outputs": [],
   "source": [
    "data_dummies_list = [pd.get_dummies(data['grade'], prefix= 'grade', prefix_sep= ':'),\n",
    "                pd.get_dummies(data['sub_grade'], prefix= 'sub_grade', prefix_sep= ':'),\n",
    "                pd.get_dummies(data['home_ownership'], prefix= 'home_ownership', prefix_sep= ':'),\n",
    "                pd.get_dummies(data['verification_status'], prefix= 'verification_status', prefix_sep= ':'),\n",
    "                pd.get_dummies(data['loan_status'], prefix= 'loan_status', prefix_sep= ':'),\n",
    "                pd.get_dummies(data['purpose'], prefix= 'purpose', prefix_sep= ':'),\n",
    "                pd.get_dummies(data['addr_state'], prefix= 'addr_state', prefix_sep= ':'),\n",
    "                pd.get_dummies(data['initial_list_status'], prefix= 'initial_list_status', prefix_sep= ':')]\n",
    "data_dummies = pd.concat(data_dummies_list, axis = 1)\n",
    "data = pd.concat([data, data_dummies], axis=1)"
   ]
  },
  {
   "cell_type": "code",
   "execution_count": 10,
   "metadata": {},
   "outputs": [
    {
     "data": {
      "text/plain": [
       "id                       0\n",
       "member_id                0\n",
       "loan_amnt                0\n",
       "funded_amnt              0\n",
       "funded_amnt_inv          0\n",
       "                        ..\n",
       "addr_state:WI            0\n",
       "addr_state:WV            0\n",
       "addr_state:WY            0\n",
       "initial_list_status:f    0\n",
       "initial_list_status:w    0\n",
       "Length: 206, dtype: int64"
      ]
     },
     "execution_count": 10,
     "metadata": {},
     "output_type": "execute_result"
    }
   ],
   "source": [
    "#pd.options.display.max_rows = None\n",
    "data.isna().sum()"
   ]
  },
  {
   "cell_type": "code",
   "execution_count": 166,
   "metadata": {},
   "outputs": [
    {
     "name": "stderr",
     "output_type": "stream",
     "text": [
      "C:\\Users\\JV592ML\\AppData\\Local\\Temp\\ipykernel_28280\\2339493412.py:2: FutureWarning: A value is trying to be set on a copy of a DataFrame or Series through chained assignment using an inplace method.\n",
      "The behavior will change in pandas 3.0. This inplace method will never work because the intermediate object on which we are setting values always behaves as a copy.\n",
      "\n",
      "For example, when doing 'df[col].method(value, inplace=True)', try using 'df.method({col: value}, inplace=True)' or df[col] = df[col].method(value) instead, to perform the operation inplace on the original object.\n",
      "\n",
      "\n",
      "  data['acc_now_delinq'].fillna(0, inplace=True)\n",
      "C:\\Users\\JV592ML\\AppData\\Local\\Temp\\ipykernel_28280\\2339493412.py:3: FutureWarning: A value is trying to be set on a copy of a DataFrame or Series through chained assignment using an inplace method.\n",
      "The behavior will change in pandas 3.0. This inplace method will never work because the intermediate object on which we are setting values always behaves as a copy.\n",
      "\n",
      "For example, when doing 'df[col].method(value, inplace=True)', try using 'df.method({col: value}, inplace=True)' or df[col] = df[col].method(value) instead, to perform the operation inplace on the original object.\n",
      "\n",
      "\n",
      "  data['total_acc'].fillna(0, inplace=True)\n",
      "C:\\Users\\JV592ML\\AppData\\Local\\Temp\\ipykernel_28280\\2339493412.py:4: FutureWarning: A value is trying to be set on a copy of a DataFrame or Series through chained assignment using an inplace method.\n",
      "The behavior will change in pandas 3.0. This inplace method will never work because the intermediate object on which we are setting values always behaves as a copy.\n",
      "\n",
      "For example, when doing 'df[col].method(value, inplace=True)', try using 'df.method({col: value}, inplace=True)' or df[col] = df[col].method(value) instead, to perform the operation inplace on the original object.\n",
      "\n",
      "\n",
      "  data['pub_rec'].fillna(0, inplace=True)\n",
      "C:\\Users\\JV592ML\\AppData\\Local\\Temp\\ipykernel_28280\\2339493412.py:5: FutureWarning: A value is trying to be set on a copy of a DataFrame or Series through chained assignment using an inplace method.\n",
      "The behavior will change in pandas 3.0. This inplace method will never work because the intermediate object on which we are setting values always behaves as a copy.\n",
      "\n",
      "For example, when doing 'df[col].method(value, inplace=True)', try using 'df.method({col: value}, inplace=True)' or df[col] = df[col].method(value) instead, to perform the operation inplace on the original object.\n",
      "\n",
      "\n",
      "  data['open_acc'].fillna(0, inplace=True)\n",
      "C:\\Users\\JV592ML\\AppData\\Local\\Temp\\ipykernel_28280\\2339493412.py:6: FutureWarning: A value is trying to be set on a copy of a DataFrame or Series through chained assignment using an inplace method.\n",
      "The behavior will change in pandas 3.0. This inplace method will never work because the intermediate object on which we are setting values always behaves as a copy.\n",
      "\n",
      "For example, when doing 'df[col].method(value, inplace=True)', try using 'df.method({col: value}, inplace=True)' or df[col] = df[col].method(value) instead, to perform the operation inplace on the original object.\n",
      "\n",
      "\n",
      "  data['inq_last_6mths'].fillna(0, inplace=True)\n",
      "C:\\Users\\JV592ML\\AppData\\Local\\Temp\\ipykernel_28280\\2339493412.py:7: FutureWarning: A value is trying to be set on a copy of a DataFrame or Series through chained assignment using an inplace method.\n",
      "The behavior will change in pandas 3.0. This inplace method will never work because the intermediate object on which we are setting values always behaves as a copy.\n",
      "\n",
      "For example, when doing 'df[col].method(value, inplace=True)', try using 'df.method({col: value}, inplace=True)' or df[col] = df[col].method(value) instead, to perform the operation inplace on the original object.\n",
      "\n",
      "\n",
      "  data['delinq_2yrs'].fillna(0, inplace=True)\n",
      "C:\\Users\\JV592ML\\AppData\\Local\\Temp\\ipykernel_28280\\2339493412.py:8: FutureWarning: A value is trying to be set on a copy of a DataFrame or Series through chained assignment using an inplace method.\n",
      "The behavior will change in pandas 3.0. This inplace method will never work because the intermediate object on which we are setting values always behaves as a copy.\n",
      "\n",
      "For example, when doing 'df[col].method(value, inplace=True)', try using 'df.method({col: value}, inplace=True)' or df[col] = df[col].method(value) instead, to perform the operation inplace on the original object.\n",
      "\n",
      "\n",
      "  data['emp_length_int'].fillna(0, inplace=True)\n",
      "C:\\Users\\JV592ML\\AppData\\Local\\Temp\\ipykernel_28280\\2339493412.py:9: FutureWarning: A value is trying to be set on a copy of a DataFrame or Series through chained assignment using an inplace method.\n",
      "The behavior will change in pandas 3.0. This inplace method will never work because the intermediate object on which we are setting values always behaves as a copy.\n",
      "\n",
      "For example, when doing 'df[col].method(value, inplace=True)', try using 'df.method({col: value}, inplace=True)' or df[col] = df[col].method(value) instead, to perform the operation inplace on the original object.\n",
      "\n",
      "\n",
      "  data['annual_inc'].fillna(data['annual_inc'][data['annual_inc'].notnull()].mean(), inplace=True)\n"
     ]
    }
   ],
   "source": [
    "data['total_rev_hi_lim'] = data['total_rev_hi_lim'].fillna(data['funded_amnt'])\n",
    "data['acc_now_delinq'].fillna(0, inplace=True)\n",
    "data['total_acc'].fillna(0, inplace=True)\n",
    "data['pub_rec'].fillna(0, inplace=True)\n",
    "data['open_acc'].fillna(0, inplace=True)\n",
    "data['inq_last_6mths'].fillna(0, inplace=True)\n",
    "data['delinq_2yrs'].fillna(0, inplace=True)\n",
    "data['emp_length_int'].fillna(0, inplace=True)\n",
    "data['annual_inc'].fillna(data['annual_inc'][data['annual_inc'].notnull()].mean(), inplace=True)"
   ]
  },
  {
   "cell_type": "markdown",
   "metadata": {},
   "source": [
    "Dependent Variable"
   ]
  },
  {
   "cell_type": "code",
   "execution_count": 14,
   "metadata": {},
   "outputs": [
    {
     "data": {
      "text/plain": [
       "loan_status\n",
       "Current                                                0.480878\n",
       "Fully Paid                                             0.396193\n",
       "Charged Off                                            0.091092\n",
       "Late (31-120 days)                                     0.014798\n",
       "In Grace Period                                        0.006747\n",
       "Does not meet the credit policy. Status:Fully Paid     0.004263\n",
       "Late (16-30 days)                                      0.002612\n",
       "Default                                                0.001784\n",
       "Does not meet the credit policy. Status:Charged Off    0.001632\n",
       "Name: count, dtype: float64"
      ]
     },
     "execution_count": 14,
     "metadata": {},
     "output_type": "execute_result"
    }
   ],
   "source": [
    "data['loan_status'].value_counts()/data['loan_status'].count()"
   ]
  },
  {
   "cell_type": "code",
   "execution_count": 167,
   "metadata": {},
   "outputs": [
    {
     "data": {
      "text/plain": [
       "good_bad\n",
       "1    0.890693\n",
       "0    0.109307\n",
       "Name: count, dtype: float64"
      ]
     },
     "execution_count": 167,
     "metadata": {},
     "output_type": "execute_result"
    }
   ],
   "source": [
    "data['good_bad'] = np.where(data['loan_status'].isin(['Charged Off', 'Late (31-120 days)', 'Does not meet the credit policy. Status:Charged Off', 'Default']), 0, 1)\n",
    "data['good_bad'].value_counts()/data['good_bad'].count()"
   ]
  },
  {
   "cell_type": "markdown",
   "metadata": {},
   "source": [
    "WOE Preprocessing"
   ]
  },
  {
   "cell_type": "markdown",
   "metadata": {},
   "source": [
    "Train Set"
   ]
  },
  {
   "cell_type": "markdown",
   "metadata": {},
   "source": [
    "Discrete Variables"
   ]
  },
  {
   "cell_type": "code",
   "execution_count": 168,
   "metadata": {},
   "outputs": [],
   "source": [
    "X_train, X_test, y_train, y_test = train_test_split(data.drop('good_bad', axis=1), data['good_bad'], test_size=0.2, random_state=42)\n",
    "X_train_prep = X_train"
   ]
  },
  {
   "cell_type": "code",
   "execution_count": 176,
   "metadata": {},
   "outputs": [],
   "source": [
    "X_train_prep['home_ownership:RENT_OTHER_NONE_ANY'] = X_train_prep['home_ownership:RENT'] + X_train_prep['home_ownership:OTHER'] + X_train_prep['home_ownership:NONE'] + X_train_prep['home_ownership:ANY']"
   ]
  },
  {
   "cell_type": "code",
   "execution_count": 169,
   "metadata": {},
   "outputs": [
    {
     "data": {
      "text/html": [
       "<div>\n",
       "<style scoped>\n",
       "    .dataframe tbody tr th:only-of-type {\n",
       "        vertical-align: middle;\n",
       "    }\n",
       "\n",
       "    .dataframe tbody tr th {\n",
       "        vertical-align: top;\n",
       "    }\n",
       "\n",
       "    .dataframe thead th {\n",
       "        text-align: right;\n",
       "    }\n",
       "</style>\n",
       "<table border=\"1\" class=\"dataframe\">\n",
       "  <thead>\n",
       "    <tr style=\"text-align: right;\">\n",
       "      <th></th>\n",
       "      <th>grade</th>\n",
       "      <th>nb_obs</th>\n",
       "      <th>nb_good</th>\n",
       "      <th>nb_bad</th>\n",
       "      <th>prop_n_good</th>\n",
       "      <th>prop_n_bad</th>\n",
       "      <th>WOE</th>\n",
       "      <th>IV</th>\n",
       "    </tr>\n",
       "  </thead>\n",
       "  <tbody>\n",
       "    <tr>\n",
       "      <th>6</th>\n",
       "      <td>G</td>\n",
       "      <td>2654</td>\n",
       "      <td>1932</td>\n",
       "      <td>722</td>\n",
       "      <td>0.005815</td>\n",
       "      <td>0.017706</td>\n",
       "      <td>-1.113459</td>\n",
       "      <td>0.288636</td>\n",
       "    </tr>\n",
       "    <tr>\n",
       "      <th>5</th>\n",
       "      <td>F</td>\n",
       "      <td>10530</td>\n",
       "      <td>7944</td>\n",
       "      <td>2586</td>\n",
       "      <td>0.023910</td>\n",
       "      <td>0.063417</td>\n",
       "      <td>-0.975440</td>\n",
       "      <td>0.288636</td>\n",
       "    </tr>\n",
       "    <tr>\n",
       "      <th>4</th>\n",
       "      <td>E</td>\n",
       "      <td>28612</td>\n",
       "      <td>23040</td>\n",
       "      <td>5572</td>\n",
       "      <td>0.069345</td>\n",
       "      <td>0.136642</td>\n",
       "      <td>-0.678267</td>\n",
       "      <td>0.288636</td>\n",
       "    </tr>\n",
       "    <tr>\n",
       "      <th>3</th>\n",
       "      <td>D</td>\n",
       "      <td>61498</td>\n",
       "      <td>52046</td>\n",
       "      <td>9452</td>\n",
       "      <td>0.156647</td>\n",
       "      <td>0.231792</td>\n",
       "      <td>-0.391843</td>\n",
       "      <td>0.288636</td>\n",
       "    </tr>\n",
       "    <tr>\n",
       "      <th>2</th>\n",
       "      <td>C</td>\n",
       "      <td>100245</td>\n",
       "      <td>88794</td>\n",
       "      <td>11451</td>\n",
       "      <td>0.267251</td>\n",
       "      <td>0.280813</td>\n",
       "      <td>-0.049503</td>\n",
       "      <td>0.288636</td>\n",
       "    </tr>\n",
       "    <tr>\n",
       "      <th>1</th>\n",
       "      <td>B</td>\n",
       "      <td>109730</td>\n",
       "      <td>101063</td>\n",
       "      <td>8667</td>\n",
       "      <td>0.304178</td>\n",
       "      <td>0.212541</td>\n",
       "      <td>0.358476</td>\n",
       "      <td>0.288636</td>\n",
       "    </tr>\n",
       "    <tr>\n",
       "      <th>0</th>\n",
       "      <td>A</td>\n",
       "      <td>59759</td>\n",
       "      <td>57431</td>\n",
       "      <td>2328</td>\n",
       "      <td>0.172855</td>\n",
       "      <td>0.057090</td>\n",
       "      <td>1.107830</td>\n",
       "      <td>0.288636</td>\n",
       "    </tr>\n",
       "  </tbody>\n",
       "</table>\n",
       "</div>"
      ],
      "text/plain": [
       "  grade  nb_obs  nb_good  nb_bad  prop_n_good  prop_n_bad       WOE        IV\n",
       "6     G    2654     1932     722     0.005815    0.017706 -1.113459  0.288636\n",
       "5     F   10530     7944    2586     0.023910    0.063417 -0.975440  0.288636\n",
       "4     E   28612    23040    5572     0.069345    0.136642 -0.678267  0.288636\n",
       "3     D   61498    52046    9452     0.156647    0.231792 -0.391843  0.288636\n",
       "2     C  100245    88794   11451     0.267251    0.280813 -0.049503  0.288636\n",
       "1     B  109730   101063    8667     0.304178    0.212541  0.358476  0.288636\n",
       "0     A   59759    57431    2328     0.172855    0.057090  1.107830  0.288636"
      ]
     },
     "execution_count": 169,
     "metadata": {},
     "output_type": "execute_result"
    }
   ],
   "source": [
    "def woe_discrete(X_train_prep, variable, y_train_prep):\n",
    "    df = pd.concat([X_train_prep[variable], y_train_prep], axis=1)\n",
    "    df = pd.concat([df.groupby([variable]).count(), df.groupby([variable]).sum()], axis=1).reset_index()\n",
    "    df.columns = [variable, 'nb_obs', 'nb_good']\n",
    "    df['nb_bad'] = df['nb_obs'] - df['nb_good']\n",
    "    df['prop_n_good'] = df['nb_good']/df['nb_good'].sum()\n",
    "    df['prop_n_bad'] = df['nb_bad']/df['nb_bad'].sum()\n",
    "    df['WOE'] = np.log(df['prop_n_good']/df['prop_n_bad'])\n",
    "    df['IV'] = ((df['prop_n_good'] - df['prop_n_bad'])*df['WOE']).sum()\n",
    "    df = df.sort_values(by = ['WOE'], ascending=True)\n",
    "    return df\n",
    "def woe_continuous(X_train_prep, variable, y_train_prep):\n",
    "    df = pd.concat([X_train_prep[variable], y_train_prep], axis=1)\n",
    "    df = pd.concat([df.groupby([variable]).count(), df.groupby([variable]).sum()], axis=1).reset_index()\n",
    "    df.columns = [variable, 'nb_obs', 'nb_good']\n",
    "    df['nb_bad'] = df['nb_obs'] - df['nb_good']\n",
    "    df['prop_n_good'] = df['nb_good']/df['nb_good'].sum()\n",
    "    df['prop_n_bad'] = df['nb_bad']/df['nb_bad'].sum()\n",
    "    df['WOE'] = np.log(df['prop_n_good']/df['prop_n_bad'])\n",
    "    df['IV'] = ((df['prop_n_good'] - df['prop_n_bad'])*df['WOE']).sum()\n",
    "    return df\n",
    "def plot_by_woe(df, rotation_ = 0):\n",
    "    x = np.array(df.iloc[:, 0].apply(str))\n",
    "    y = df['WOE']\n",
    "    plt.figure(figsize=(6,3))\n",
    "    plt.plot(x, y, marker = 'o', linestyle = '--', color = 'b')\n",
    "    plt.xlabel(df.columns[0])\n",
    "    plt.ylabel('Weight of Evidence')\n",
    "    plt.title('Weight of Evidence by ' + df.columns[0])\n",
    "    plt.xticks(rotation = rotation_)\n",
    "df_woe = woe_discrete(X_train_prep, 'grade', y_train_prep)\n",
    "df_woe"
   ]
  },
  {
   "cell_type": "code",
   "execution_count": 134,
   "metadata": {},
   "outputs": [
    {
     "data": {
      "image/png": "[encoded data removed]",
      "text/plain": [
       "<Figure size 600x300 with 1 Axes>"
      ]
     },
     "metadata": {},
     "output_type": "display_data"
    }
   ],
   "source": [
    "plot_by_woe(df_woe)"
   ]
  },
  {
   "cell_type": "code",
   "execution_count": 177,
   "metadata": {},
   "outputs": [],
   "source": [
    "if ['addr_state:ND'] in X_train_prep.columns.values:\n",
    "    pass\n",
    "else:\n",
    "    X_train_prep['addr_state:ND'] = 0\n",
    "X_train_prep['addr_state:ND_NE_IA_NV_FL_HI_AL'] = sum([X_train_prep['addr_state:ND'], X_train_prep['addr_state:NE'],\n",
    "                                                         X_train_prep['addr_state:IA'], X_train_prep['addr_state:NV'],\n",
    "                                                         X_train_prep['addr_state:FL'], X_train_prep['addr_state:HI'],\n",
    "                                                         X_train_prep['addr_state:AL']])\n",
    "\n",
    "X_train_prep['addr_state:NM_VA'] = sum([X_train_prep['addr_state:NM'], X_train_prep['addr_state:VA']])\n",
    "\n",
    "X_train_prep['addr_state:OK_TN_MO_LA_MD_NC'] = sum([X_train_prep['addr_state:OK'], X_train_prep['addr_state:TN'],\n",
    "                                              X_train_prep['addr_state:MO'], X_train_prep['addr_state:LA'],\n",
    "                                              X_train_prep['addr_state:MD'], X_train_prep['addr_state:NC']])\n",
    "\n",
    "X_train_prep['addr_state:UT_KY_AZ_NJ'] = sum([X_train_prep['addr_state:UT'], X_train_prep['addr_state:KY'],\n",
    "                                              X_train_prep['addr_state:AZ'], X_train_prep['addr_state:NJ']])\n",
    "\n",
    "X_train_prep['addr_state:AR_MI_PA_OH_MN'] = sum([X_train_prep['addr_state:AR'], X_train_prep['addr_state:MI'],\n",
    "                                              X_train_prep['addr_state:PA'], X_train_prep['addr_state:OH'],\n",
    "                                              X_train_prep['addr_state:MN']])\n",
    "\n",
    "X_train_prep['addr_state:RI_MA_DE_SD_IN'] = sum([X_train_prep['addr_state:RI'], X_train_prep['addr_state:MA'],\n",
    "                                              X_train_prep['addr_state:DE'], X_train_prep['addr_state:SD'],\n",
    "                                              X_train_prep['addr_state:IN']])\n",
    "\n",
    "X_train_prep['addr_state:GA_WA_OR'] = sum([X_train_prep['addr_state:GA'], X_train_prep['addr_state:WA'],\n",
    "                                              X_train_prep['addr_state:OR']])\n",
    "\n",
    "X_train_prep['addr_state:WI_MT'] = sum([X_train_prep['addr_state:WI'], X_train_prep['addr_state:MT']])\n",
    "\n",
    "X_train_prep['addr_state:IL_CT'] = sum([X_train_prep['addr_state:IL'], X_train_prep['addr_state:CT']])\n",
    "\n",
    "X_train_prep['addr_state:KS_SC_CO_VT_AK_MS'] = sum([X_train_prep['addr_state:KS'], X_train_prep['addr_state:SC'],\n",
    "                                              X_train_prep['addr_state:CO'], X_train_prep['addr_state:VT'],\n",
    "                                              X_train_prep['addr_state:AK'], X_train_prep['addr_state:MS']])\n",
    "\n",
    "X_train_prep['addr_state:WV_NH_WY_DC_ME_ID'] = sum([X_train_prep['addr_state:WV'], X_train_prep['addr_state:NH'],\n",
    "                                              X_train_prep['addr_state:WY'], X_train_prep['addr_state:DC'],\n",
    "                                              X_train_prep['addr_state:ME'], X_train_prep['addr_state:ID']])"
   ]
  },
  {
   "cell_type": "code",
   "execution_count": 178,
   "metadata": {},
   "outputs": [],
   "source": [
    "X_train_prep['purpose:educ__sm_b__wedd__ren_en__mov__house'] = sum([X_train_prep['purpose:educational'], X_train_prep['purpose:small_business'],\n",
    "                                                                 X_train_prep['purpose:wedding'], X_train_prep['purpose:renewable_energy'],\n",
    "                                                                 X_train_prep['purpose:moving'], X_train_prep['purpose:house']])\n",
    "X_train_prep['purpose:oth__med__vacation'] = sum([X_train_prep['purpose:other'], X_train_prep['purpose:medical'],\n",
    "                                             X_train_prep['purpose:vacation']])\n",
    "X_train_prep['purpose:major_purch__car__home_impr'] = sum([X_train_prep['purpose:major_purchase'], X_train_prep['purpose:car'],\n",
    "                                                        X_train_prep['purpose:home_improvement']])\n",
    "\n",
    "X_train_prep['term_int:36'] = np.where(X_train_prep['term_int'] == 36, 1, 0)\n",
    "X_train_prep['term_int:60'] = np.where(X_train_prep['term_int'] == 60, 1, 0)"
   ]
  },
  {
   "cell_type": "code",
   "execution_count": 179,
   "metadata": {},
   "outputs": [
    {
     "name": "stderr",
     "output_type": "stream",
     "text": [
      "C:\\Users\\JV592ML\\AppData\\Local\\Temp\\ipykernel_28280\\118373813.py:89: PerformanceWarning: DataFrame is highly fragmented.  This is usually the result of calling `frame.insert` many times, which has poor performance.  Consider joining all columns at once using pd.concat(axis=1) instead. To get a de-fragmented frame, use `newframe = frame.copy()`\n",
      "  X_train_prep['dti:3.5-7.7'] = np.where((X_train_prep['dti'] > 3.5) & (X_train_prep['dti'] <= 7.7), 1, 0)\n",
      "C:\\Users\\JV592ML\\AppData\\Local\\Temp\\ipykernel_28280\\118373813.py:90: PerformanceWarning: DataFrame is highly fragmented.  This is usually the result of calling `frame.insert` many times, which has poor performance.  Consider joining all columns at once using pd.concat(axis=1) instead. To get a de-fragmented frame, use `newframe = frame.copy()`\n",
      "  X_train_prep['dti:7.7-10.5'] = np.where((X_train_prep['dti'] > 7.7) & (X_train_prep['dti'] <= 10.5), 1, 0)\n",
      "C:\\Users\\JV592ML\\AppData\\Local\\Temp\\ipykernel_28280\\118373813.py:91: PerformanceWarning: DataFrame is highly fragmented.  This is usually the result of calling `frame.insert` many times, which has poor performance.  Consider joining all columns at once using pd.concat(axis=1) instead. To get a de-fragmented frame, use `newframe = frame.copy()`\n",
      "  X_train_prep['dti:10.5-16.1'] = np.where((X_train_prep['dti'] > 10.5) & (X_train_prep['dti'] <= 16.1), 1, 0)\n",
      "C:\\Users\\JV592ML\\AppData\\Local\\Temp\\ipykernel_28280\\118373813.py:92: PerformanceWarning: DataFrame is highly fragmented.  This is usually the result of calling `frame.insert` many times, which has poor performance.  Consider joining all columns at once using pd.concat(axis=1) instead. To get a de-fragmented frame, use `newframe = frame.copy()`\n",
      "  X_train_prep['dti:16.1-20.3'] = np.where((X_train_prep['dti'] > 16.1) & (X_train_prep['dti'] <= 20.3), 1, 0)\n",
      "C:\\Users\\JV592ML\\AppData\\Local\\Temp\\ipykernel_28280\\118373813.py:93: PerformanceWarning: DataFrame is highly fragmented.  This is usually the result of calling `frame.insert` many times, which has poor performance.  Consider joining all columns at once using pd.concat(axis=1) instead. To get a de-fragmented frame, use `newframe = frame.copy()`\n",
      "  X_train_prep['dti:20.3-21.7'] = np.where((X_train_prep['dti'] > 20.3) & (X_train_prep['dti'] <= 21.7), 1, 0)\n",
      "C:\\Users\\JV592ML\\AppData\\Local\\Temp\\ipykernel_28280\\118373813.py:94: PerformanceWarning: DataFrame is highly fragmented.  This is usually the result of calling `frame.insert` many times, which has poor performance.  Consider joining all columns at once using pd.concat(axis=1) instead. To get a de-fragmented frame, use `newframe = frame.copy()`\n",
      "  X_train_prep['dti:21.7-22.4'] = np.where((X_train_prep['dti'] > 21.7) & (X_train_prep['dti'] <= 22.4), 1, 0)\n",
      "C:\\Users\\JV592ML\\AppData\\Local\\Temp\\ipykernel_28280\\118373813.py:95: PerformanceWarning: DataFrame is highly fragmented.  This is usually the result of calling `frame.insert` many times, which has poor performance.  Consider joining all columns at once using pd.concat(axis=1) instead. To get a de-fragmented frame, use `newframe = frame.copy()`\n",
      "  X_train_prep['dti:22.4-35'] = np.where((X_train_prep['dti'] > 22.4) & (X_train_prep['dti'] <= 35), 1, 0)\n",
      "C:\\Users\\JV592ML\\AppData\\Local\\Temp\\ipykernel_28280\\118373813.py:96: PerformanceWarning: DataFrame is highly fragmented.  This is usually the result of calling `frame.insert` many times, which has poor performance.  Consider joining all columns at once using pd.concat(axis=1) instead. To get a de-fragmented frame, use `newframe = frame.copy()`\n",
      "  X_train_prep['dti:>35'] = np.where((X_train_prep['dti'] > 35), 1, 0)\n",
      "C:\\Users\\JV592ML\\AppData\\Local\\Temp\\ipykernel_28280\\118373813.py:98: PerformanceWarning: DataFrame is highly fragmented.  This is usually the result of calling `frame.insert` many times, which has poor performance.  Consider joining all columns at once using pd.concat(axis=1) instead. To get a de-fragmented frame, use `newframe = frame.copy()`\n",
      "  X_train_prep['mths_since_last_record:Missing'] = np.where((X_train_prep['mths_since_last_record'].isnull()), 1, 0)\n",
      "C:\\Users\\JV592ML\\AppData\\Local\\Temp\\ipykernel_28280\\118373813.py:99: PerformanceWarning: DataFrame is highly fragmented.  This is usually the result of calling `frame.insert` many times, which has poor performance.  Consider joining all columns at once using pd.concat(axis=1) instead. To get a de-fragmented frame, use `newframe = frame.copy()`\n",
      "  X_train_prep['mths_since_last_record:0-2'] = np.where((X_train_prep['mths_since_last_record'] >= 0) & (X_train_prep['mths_since_last_record'] <= 2), 1, 0)\n",
      "C:\\Users\\JV592ML\\AppData\\Local\\Temp\\ipykernel_28280\\118373813.py:100: PerformanceWarning: DataFrame is highly fragmented.  This is usually the result of calling `frame.insert` many times, which has poor performance.  Consider joining all columns at once using pd.concat(axis=1) instead. To get a de-fragmented frame, use `newframe = frame.copy()`\n",
      "  X_train_prep['mths_since_last_record:3-20'] = np.where((X_train_prep['mths_since_last_record'] >= 3) & (X_train_prep['mths_since_last_record'] <= 20), 1, 0)\n",
      "C:\\Users\\JV592ML\\AppData\\Local\\Temp\\ipykernel_28280\\118373813.py:101: PerformanceWarning: DataFrame is highly fragmented.  This is usually the result of calling `frame.insert` many times, which has poor performance.  Consider joining all columns at once using pd.concat(axis=1) instead. To get a de-fragmented frame, use `newframe = frame.copy()`\n",
      "  X_train_prep['mths_since_last_record:21-31'] = np.where((X_train_prep['mths_since_last_record'] >= 21) & (X_train_prep['mths_since_last_record'] <= 31), 1, 0)\n",
      "C:\\Users\\JV592ML\\AppData\\Local\\Temp\\ipykernel_28280\\118373813.py:102: PerformanceWarning: DataFrame is highly fragmented.  This is usually the result of calling `frame.insert` many times, which has poor performance.  Consider joining all columns at once using pd.concat(axis=1) instead. To get a de-fragmented frame, use `newframe = frame.copy()`\n",
      "  X_train_prep['mths_since_last_record:32-80'] = np.where((X_train_prep['mths_since_last_record'] >= 32) & (X_train_prep['mths_since_last_record'] <= 80), 1, 0)\n",
      "C:\\Users\\JV592ML\\AppData\\Local\\Temp\\ipykernel_28280\\118373813.py:103: PerformanceWarning: DataFrame is highly fragmented.  This is usually the result of calling `frame.insert` many times, which has poor performance.  Consider joining all columns at once using pd.concat(axis=1) instead. To get a de-fragmented frame, use `newframe = frame.copy()`\n",
      "  X_train_prep['mths_since_last_record:81-86'] = np.where((X_train_prep['mths_since_last_record'] >= 81) & (X_train_prep['mths_since_last_record'] <= 86), 1, 0)\n",
      "C:\\Users\\JV592ML\\AppData\\Local\\Temp\\ipykernel_28280\\118373813.py:104: PerformanceWarning: DataFrame is highly fragmented.  This is usually the result of calling `frame.insert` many times, which has poor performance.  Consider joining all columns at once using pd.concat(axis=1) instead. To get a de-fragmented frame, use `newframe = frame.copy()`\n",
      "  X_train_prep['mths_since_last_record:>=86'] = np.where((X_train_prep['mths_since_last_record'] >= 86), 1, 0)\n"
     ]
    }
   ],
   "source": [
    "X_train_prep['emp_length:0'] = np.where(X_train_prep['emp_length_int'].isin([0]), 1, 0)\n",
    "X_train_prep['emp_length:1'] = np.where(X_train_prep['emp_length_int'].isin([1]), 1, 0)\n",
    "X_train_prep['emp_length:2-4'] = np.where(X_train_prep['emp_length_int'].isin(range(2, 5)), 1, 0)\n",
    "X_train_prep['emp_length:5-6'] = np.where(X_train_prep['emp_length_int'].isin(range(5, 7)), 1, 0)\n",
    "X_train_prep['emp_length:7-9'] = np.where(X_train_prep['emp_length_int'].isin(range(7, 10)), 1, 0)\n",
    "X_train_prep['emp_length:10'] = np.where(X_train_prep['emp_length_int'].isin([10]), 1, 0)\n",
    "\n",
    "X_train_prep['mths_since_issue_d:<38'] = np.where(X_train_prep['mths_since_issue_d'].isin(range(38)), 1, 0)\n",
    "X_train_prep['mths_since_issue_d:38-39'] = np.where(X_train_prep['mths_since_issue_d'].isin(range(38, 40)), 1, 0)\n",
    "X_train_prep['mths_since_issue_d:40-41'] = np.where(X_train_prep['mths_since_issue_d'].isin(range(40, 42)), 1, 0)\n",
    "X_train_prep['mths_since_issue_d:42-48'] = np.where(X_train_prep['mths_since_issue_d'].isin(range(42, 49)), 1, 0)\n",
    "X_train_prep['mths_since_issue_d:49-52'] = np.where(X_train_prep['mths_since_issue_d'].isin(range(49, 53)), 1, 0)\n",
    "X_train_prep['mths_since_issue_d:53-64'] = np.where(X_train_prep['mths_since_issue_d'].isin(range(53, 65)), 1, 0)\n",
    "X_train_prep['mths_since_issue_d:65-84'] = np.where(X_train_prep['mths_since_issue_d'].isin(range(65, 85)), 1, 0)\n",
    "X_train_prep['mths_since_issue_d:>84'] = np.where(X_train_prep['mths_since_issue_d'].isin(range(85, int(X_train_prep['mths_since_issue_d'].max()))), 1, 0)\n",
    "\n",
    "X_train_prep['int_rate:<9.548'] = np.where((X_train_prep['int_rate'] <= 9.548), 1, 0)\n",
    "X_train_prep['int_rate:9.548-12.025'] = np.where((X_train_prep['int_rate'] > 9.548) & (X_train_prep['int_rate'] <= 12.025), 1, 0)\n",
    "X_train_prep['int_rate:12.025-15.74'] = np.where((X_train_prep['int_rate'] > 12.025) & (X_train_prep['int_rate'] <= 15.74), 1, 0)\n",
    "X_train_prep['int_rate:15.74-20.281'] = np.where((X_train_prep['int_rate'] > 15.74) & (X_train_prep['int_rate'] <= 20.281), 1, 0)\n",
    "X_train_prep['int_rate:>20.281'] = np.where((X_train_prep['int_rate'] > 20.281), 1, 0)\n",
    "\n",
    "X_train_prep['mths_since_earliest_cr_line:<140'] = np.where(X_train_prep['mths_since_earliest_cr_line'].isin(range(140)), 1, 0)\n",
    "X_train_prep['mths_since_earliest_cr_line:141-164'] = np.where(X_train_prep['mths_since_earliest_cr_line'].isin(range(140, 165)), 1, 0)\n",
    "X_train_prep['mths_since_earliest_cr_line:165-247'] = np.where(X_train_prep['mths_since_earliest_cr_line'].isin(range(165, 248)), 1, 0)\n",
    "X_train_prep['mths_since_earliest_cr_line:248-270'] = np.where(X_train_prep['mths_since_earliest_cr_line'].isin(range(248, 271)), 1, 0)\n",
    "X_train_prep['mths_since_earliest_cr_line:271-352'] = np.where(X_train_prep['mths_since_earliest_cr_line'].isin(range(271, 353)), 1, 0)\n",
    "X_train_prep['mths_since_earliest_cr_line:>352'] = np.where(X_train_prep['mths_since_earliest_cr_line'].isin(range(353, int(X_train_prep['mths_since_earliest_cr_line'].max()))), 1, 0)\n",
    "\n",
    "X_train_prep['delinq_2yrs:0'] = np.where((X_train_prep['delinq_2yrs'] == 0), 1, 0)\n",
    "X_train_prep['delinq_2yrs:1-3'] = np.where((X_train_prep['delinq_2yrs'] >= 1) & (X_train_prep['delinq_2yrs'] <= 3), 1, 0)\n",
    "X_train_prep['delinq_2yrs:>=4'] = np.where((X_train_prep['delinq_2yrs'] >= 9), 1, 0)\n",
    "\n",
    "X_train_prep['inq_last_6mths:0'] = np.where((X_train_prep['inq_last_6mths'] == 0), 1, 0)\n",
    "X_train_prep['inq_last_6mths:1-2'] = np.where((X_train_prep['inq_last_6mths'] >= 1) & (X_train_prep['inq_last_6mths'] <= 2), 1, 0)\n",
    "X_train_prep['inq_last_6mths:3-6'] = np.where((X_train_prep['inq_last_6mths'] >= 3) & (X_train_prep['inq_last_6mths'] <= 6), 1, 0)\n",
    "X_train_prep['inq_last_6mths:>6'] = np.where((X_train_prep['inq_last_6mths'] > 6), 1, 0)\n",
    "\n",
    "X_train_prep['open_acc:0'] = np.where((X_train_prep['open_acc'] == 0), 1, 0)\n",
    "X_train_prep['open_acc:1-3'] = np.where((X_train_prep['open_acc'] >= 1) & (X_train_prep['open_acc'] <= 3), 1, 0)\n",
    "X_train_prep['open_acc:4-12'] = np.where((X_train_prep['open_acc'] >= 4) & (X_train_prep['open_acc'] <= 12), 1, 0)\n",
    "X_train_prep['open_acc:13-17'] = np.where((X_train_prep['open_acc'] >= 13) & (X_train_prep['open_acc'] <= 17), 1, 0)\n",
    "X_train_prep['open_acc:18-22'] = np.where((X_train_prep['open_acc'] >= 18) & (X_train_prep['open_acc'] <= 22), 1, 0)\n",
    "X_train_prep['open_acc:23-25'] = np.where((X_train_prep['open_acc'] >= 23) & (X_train_prep['open_acc'] <= 25), 1, 0)\n",
    "X_train_prep['open_acc:26-30'] = np.where((X_train_prep['open_acc'] >= 26) & (X_train_prep['open_acc'] <= 30), 1, 0)\n",
    "X_train_prep['open_acc:>=31'] = np.where((X_train_prep['open_acc'] >= 31), 1, 0)\n",
    "\n",
    "X_train_prep['pub_rec:0-2'] = np.where((X_train_prep['pub_rec'] >= 0) & (X_train_prep['pub_rec'] <= 2), 1, 0)\n",
    "X_train_prep['pub_rec:3-4'] = np.where((X_train_prep['pub_rec'] >= 3) & (X_train_prep['pub_rec'] <= 4), 1, 0)\n",
    "X_train_prep['pub_rec:>=5'] = np.where((X_train_prep['pub_rec'] >= 5), 1, 0)\n",
    "\n",
    "X_train_prep['total_acc:<=27'] = np.where((X_train_prep['total_acc'] <= 27), 1, 0)\n",
    "X_train_prep['total_acc:28-51'] = np.where((X_train_prep['total_acc'] >= 28) & (X_train_prep['total_acc'] <= 51), 1, 0)\n",
    "X_train_prep['total_acc:>=52'] = np.where((X_train_prep['total_acc'] >= 52), 1, 0)\n",
    "\n",
    "X_train_prep['acc_now_delinq:0'] = np.where((X_train_prep['acc_now_delinq'] == 0), 1, 0)\n",
    "X_train_prep['acc_now_delinq:>=1'] = np.where((X_train_prep['acc_now_delinq'] >= 1), 1, 0)\n",
    "\n",
    "X_train_prep['total_rev_hi_lim:<=5K'] = np.where((X_train_prep['total_rev_hi_lim'] <= 5000), 1, 0)\n",
    "X_train_prep['total_rev_hi_lim:5K-10K'] = np.where((X_train_prep['total_rev_hi_lim'] > 5000) & (X_train_prep['total_rev_hi_lim'] <= 10000), 1, 0)\n",
    "X_train_prep['total_rev_hi_lim:10K-20K'] = np.where((X_train_prep['total_rev_hi_lim'] > 10000) & (X_train_prep['total_rev_hi_lim'] <= 20000), 1, 0)\n",
    "X_train_prep['total_rev_hi_lim:20K-30K'] = np.where((X_train_prep['total_rev_hi_lim'] > 20000) & (X_train_prep['total_rev_hi_lim'] <= 30000), 1, 0)\n",
    "X_train_prep['total_rev_hi_lim:30K-40K'] = np.where((X_train_prep['total_rev_hi_lim'] > 30000) & (X_train_prep['total_rev_hi_lim'] <= 40000), 1, 0)\n",
    "X_train_prep['total_rev_hi_lim:40K-55K'] = np.where((X_train_prep['total_rev_hi_lim'] > 40000) & (X_train_prep['total_rev_hi_lim'] <= 55000), 1, 0)\n",
    "X_train_prep['total_rev_hi_lim:55K-95K'] = np.where((X_train_prep['total_rev_hi_lim'] > 55000) & (X_train_prep['total_rev_hi_lim'] <= 95000), 1, 0)\n",
    "X_train_prep['total_rev_hi_lim:>95K'] = np.where((X_train_prep['total_rev_hi_lim'] > 95000), 1, 0)\n",
    "\n",
    "X_train_prep['annual_inc:<20K'] = np.where((X_train_prep['annual_inc'] <= 20000), 1, 0)\n",
    "X_train_prep['annual_inc:20K-30K'] = np.where((X_train_prep['annual_inc'] > 20000) & (X_train_prep['annual_inc'] <= 30000), 1, 0)\n",
    "X_train_prep['annual_inc:30K-40K'] = np.where((X_train_prep['annual_inc'] > 30000) & (X_train_prep['annual_inc'] <= 40000), 1, 0)\n",
    "X_train_prep['annual_inc:40K-50K'] = np.where((X_train_prep['annual_inc'] > 40000) & (X_train_prep['annual_inc'] <= 50000), 1, 0)\n",
    "X_train_prep['annual_inc:50K-60K'] = np.where((X_train_prep['annual_inc'] > 50000) & (X_train_prep['annual_inc'] <= 60000), 1, 0)\n",
    "X_train_prep['annual_inc:60K-70K'] = np.where((X_train_prep['annual_inc'] > 60000) & (X_train_prep['annual_inc'] <= 70000), 1, 0)\n",
    "X_train_prep['annual_inc:70K-80K'] = np.where((X_train_prep['annual_inc'] > 70000) & (X_train_prep['annual_inc'] <= 80000), 1, 0)\n",
    "X_train_prep['annual_inc:80K-90K'] = np.where((X_train_prep['annual_inc'] > 80000) & (X_train_prep['annual_inc'] <= 90000), 1, 0)\n",
    "X_train_prep['annual_inc:90K-100K'] = np.where((X_train_prep['annual_inc'] > 90000) & (X_train_prep['annual_inc'] <= 100000), 1, 0)\n",
    "X_train_prep['annual_inc:100K-120K'] = np.where((X_train_prep['annual_inc'] > 100000) & (X_train_prep['annual_inc'] <= 120000), 1, 0)\n",
    "X_train_prep['annual_inc:120K-140K'] = np.where((X_train_prep['annual_inc'] > 120000) & (X_train_prep['annual_inc'] <= 140000), 1, 0)\n",
    "X_train_prep['annual_inc:>140K'] = np.where((X_train_prep['annual_inc'] > 140000), 1, 0)\n",
    "\n",
    "X_train_prep['mths_since_last_delinq:Missing'] = np.where((X_train_prep['mths_since_last_delinq'].isnull()), 1, 0)\n",
    "X_train_prep['mths_since_last_delinq:0-3'] = np.where((X_train_prep['mths_since_last_delinq'] >= 0) & (X_train_prep['mths_since_last_delinq'] <= 3), 1, 0)\n",
    "X_train_prep['mths_since_last_delinq:4-30'] = np.where((X_train_prep['mths_since_last_delinq'] >= 4) & (X_train_prep['mths_since_last_delinq'] <= 30), 1, 0)\n",
    "X_train_prep['mths_since_last_delinq:31-56'] = np.where((X_train_prep['mths_since_last_delinq'] >= 31) & (X_train_prep['mths_since_last_delinq'] <= 56), 1, 0)\n",
    "X_train_prep['mths_since_last_delinq:>=57'] = np.where((X_train_prep['mths_since_last_delinq'] >= 57), 1, 0)\n",
    "\n",
    "X_train_prep['dti:<=1.4'] = np.where((X_train_prep['dti'] <= 1.4), 1, 0)\n",
    "X_train_prep['dti:1.4-3.5'] = np.where((X_train_prep['dti'] > 1.4) & (X_train_prep['dti'] <= 3.5), 1, 0)\n",
    "X_train_prep['dti:3.5-7.7'] = np.where((X_train_prep['dti'] > 3.5) & (X_train_prep['dti'] <= 7.7), 1, 0)\n",
    "X_train_prep['dti:7.7-10.5'] = np.where((X_train_prep['dti'] > 7.7) & (X_train_prep['dti'] <= 10.5), 1, 0)\n",
    "X_train_prep['dti:10.5-16.1'] = np.where((X_train_prep['dti'] > 10.5) & (X_train_prep['dti'] <= 16.1), 1, 0)\n",
    "X_train_prep['dti:16.1-20.3'] = np.where((X_train_prep['dti'] > 16.1) & (X_train_prep['dti'] <= 20.3), 1, 0)\n",
    "X_train_prep['dti:20.3-21.7'] = np.where((X_train_prep['dti'] > 20.3) & (X_train_prep['dti'] <= 21.7), 1, 0)\n",
    "X_train_prep['dti:21.7-22.4'] = np.where((X_train_prep['dti'] > 21.7) & (X_train_prep['dti'] <= 22.4), 1, 0)\n",
    "X_train_prep['dti:22.4-35'] = np.where((X_train_prep['dti'] > 22.4) & (X_train_prep['dti'] <= 35), 1, 0)\n",
    "X_train_prep['dti:>35'] = np.where((X_train_prep['dti'] > 35), 1, 0)\n",
    "\n",
    "X_train_prep['mths_since_last_record:Missing'] = np.where((X_train_prep['mths_since_last_record'].isnull()), 1, 0)\n",
    "X_train_prep['mths_since_last_record:0-2'] = np.where((X_train_prep['mths_since_last_record'] >= 0) & (X_train_prep['mths_since_last_record'] <= 2), 1, 0)\n",
    "X_train_prep['mths_since_last_record:3-20'] = np.where((X_train_prep['mths_since_last_record'] >= 3) & (X_train_prep['mths_since_last_record'] <= 20), 1, 0)\n",
    "X_train_prep['mths_since_last_record:21-31'] = np.where((X_train_prep['mths_since_last_record'] >= 21) & (X_train_prep['mths_since_last_record'] <= 31), 1, 0)\n",
    "X_train_prep['mths_since_last_record:32-80'] = np.where((X_train_prep['mths_since_last_record'] >= 32) & (X_train_prep['mths_since_last_record'] <= 80), 1, 0)\n",
    "X_train_prep['mths_since_last_record:81-86'] = np.where((X_train_prep['mths_since_last_record'] >= 81) & (X_train_prep['mths_since_last_record'] <= 86), 1, 0)\n",
    "X_train_prep['mths_since_last_record:>=86'] = np.where((X_train_prep['mths_since_last_record'] >= 86), 1, 0)"
   ]
  },
  {
   "cell_type": "markdown",
   "metadata": {},
   "source": [
    "Test Set"
   ]
  },
  {
   "cell_type": "code",
   "execution_count": 173,
   "metadata": {},
   "outputs": [],
   "source": [
    "X_train_prep_preprocessed = X_train_prep"
   ]
  },
  {
   "cell_type": "code",
   "execution_count": 175,
   "metadata": {},
   "outputs": [],
   "source": [
    "X_train_prep = X_test\n",
    "#run the previous preprocessing steps"
   ]
  },
  {
   "cell_type": "code",
   "execution_count": 180,
   "metadata": {},
   "outputs": [],
   "source": [
    "X_test_prep_preprocessed = X_train_prep"
   ]
  },
  {
   "cell_type": "code",
   "execution_count": 181,
   "metadata": {},
   "outputs": [],
   "source": [
    "X_train_prep_preprocessed.to_csv('loan_data_inputs_train.csv')\n",
    "y_train.to_csv('loan_data_targets_train.csv')\n",
    "X_test_prep_preprocessed.to_csv('loan_data_inputs_test.csv')\n",
    "y_test.to_csv('loan_data_targets_test.csv')"
   ]
  }
 ],
 "metadata": {
  "kernelspec": {
   "display_name": "Python 3",
   "language": "python",
   "name": "python3"
  },
  "language_info": {
   "codemirror_mode": {
    "name": "ipython",
    "version": 3
   },
   "file_extension": ".py",
   "mimetype": "text/x-python",
   "name": "python",
   "nbconvert_exporter": "python",
   "pygments_lexer": "ipython3",
   "version": "3.12.3"
  }
 },
 "nbformat": 4,
 "nbformat_minor": 2
}
